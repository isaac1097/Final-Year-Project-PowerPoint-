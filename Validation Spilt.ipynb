{
 "cells": [
  {
   "cell_type": "code",
   "execution_count": 4,
   "id": "17ee2135-fe18-428f-940d-e7212095c278",
   "metadata": {},
   "outputs": [],
   "source": [
    "#Intention\n",
    "import json\n",
    "from sklearn.model_selection import train_test_split\n",
    "\n",
    "with open('train_data.json', 'r') as f:\n",
    "    data = json.load(f)\n",
    "\n",
    "texts = [item['raw_text'] for item in data]\n",
    "intentions = [item['intention'] for item in data]\n",
    "\n",
    "train_texts, val_texts, train_intentions, val_intentions = train_test_split(texts, intentions, test_size=0.2, random_state=42)\n",
    "\n",
    "train_data = [{\"raw_text\": text, \"intention\": intention} for text, intention in zip(train_texts, train_intentions)]\n",
    "val_data = [{\"raw_text\": text, \"intention\": intention} for text, intention in zip(val_texts, val_intentions)]\n",
    "\n",
    "with open('train_data.json', 'w') as f:\n",
    "    json.dump(train_data, f)\n",
    "\n",
    "with open('val_data.json', 'w') as f:\n",
    "    json.dump(val_data, f)"
   ]
  },
  {
   "cell_type": "code",
   "execution_count": 2,
   "id": "10c9dfaa-ebb2-42ab-8871-2db0ffa59603",
   "metadata": {},
   "outputs": [],
   "source": [
    "#Procedure\n",
    "import json\n",
    "from sklearn.model_selection import train_test_split\n",
    "\n",
    "with open('FlanT5LargeProcedure (Data with GPT)/Combined_Data_Procedure with GPT.json', 'r') as f:\n",
    "    data = json.load(f)\n",
    "\n",
    "texts = [item['raw_text'] for item in data]\n",
    "intentions = [item['intention'] for item in data]\n",
    "procedures = [item['procedure'] for item in data]\n",
    "\n",
    "train_texts, val_texts, train_intentions, val_intentions, train_procedures, val_procedures = train_test_split(texts, intentions, procedures, test_size=0.2, random_state=42)\n",
    "\n",
    "train_data = [{\"raw_text\": text, \"intention\": intention, \"procedure\": procedure} for text, intention, procedure in zip(train_texts, train_intentions, train_procedures)]\n",
    "val_data = [{\"raw_text\": text, \"intention\": intention, \"procedure\": procedure} for text, intention, procedure in zip(val_texts, val_intentions, val_procedures)]\n",
    "\n",
    "with open('train_data_v2.json', 'w') as f:\n",
    "    json.dump(train_data, f, indent=4)\n",
    "\n",
    "with open('val_data_v2.json', 'w') as f:\n",
    "    json.dump(val_data, f, indent=4)"
   ]
  },
  {
   "cell_type": "code",
   "execution_count": null,
   "id": "557bf426-e1d2-43f6-b237-faf3de87bc76",
   "metadata": {},
   "outputs": [],
   "source": []
  }
 ],
 "metadata": {
  "kernelspec": {
   "display_name": "Python 3 (ipykernel)",
   "language": "python",
   "name": "python3"
  },
  "language_info": {
   "codemirror_mode": {
    "name": "ipython",
    "version": 3
   },
   "file_extension": ".py",
   "mimetype": "text/x-python",
   "name": "python",
   "nbconvert_exporter": "python",
   "pygments_lexer": "ipython3",
   "version": "3.9.16"
  }
 },
 "nbformat": 4,
 "nbformat_minor": 5
}
