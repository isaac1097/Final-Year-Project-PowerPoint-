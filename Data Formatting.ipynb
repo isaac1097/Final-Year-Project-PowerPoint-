{
 "cells": [
  {
   "cell_type": "code",
   "execution_count": 1,
   "id": "15faa181-0e9c-4138-9cdd-35f9d275dbff",
   "metadata": {},
   "outputs": [],
   "source": [
    "#Procedure combined into a single sentence. JSON file output contains fields Raw Text, Intention and Procedures Reexport original new dataset\n",
    "import json\n",
    "from collections import defaultdict\n",
    "\n",
    "def load_and_process_data(filename):\n",
    "    paired_data = defaultdict(lambda: {\"raw_text\": None, \"intention\": None, \"procedure\": []})\n",
    "\n",
    "    with open(filename, 'r') as f:\n",
    "        for line in f:\n",
    "            data = json.loads(line)\n",
    "\n",
    "            text = data['text']\n",
    "\n",
    "            id_to_entity = {entity['id']: entity for entity in data['entities']}\n",
    "\n",
    "            for relation in data['relations']:\n",
    "                intention_entity = id_to_entity[relation['from_id']]\n",
    "                procedure_entity = id_to_entity[relation['to_id']]\n",
    "\n",
    "                intention_text = text[intention_entity['start_offset']:intention_entity['end_offset']]\n",
    "                procedure_text = text[procedure_entity['start_offset']:procedure_entity['end_offset']]\n",
    "\n",
    "                paired_data[intention_text][\"raw_text\"] = text\n",
    "                paired_data[intention_text][\"intention\"] = intention_text\n",
    "                paired_data[intention_text][\"procedure\"].append(procedure_text)\n",
    "\n",
    "    for key in paired_data:\n",
    "        paired_data[key][\"procedure\"] = \". \".join(paired_data[key][\"procedure\"])\n",
    "\n",
    "    return list(paired_data.values())\n",
    "\n",
    "paired_data_list = load_and_process_data('New Generated Data/admin.jsonl')\n",
    "\n",
    "with open('Data_Intention_Procedure.json', 'w') as f:\n",
    "    json.dump(paired_data_list, f)"
   ]
  },
  {
   "cell_type": "code",
   "execution_count": 3,
   "id": "70000885-acd8-4852-8d0b-8e7418be6194",
   "metadata": {},
   "outputs": [],
   "source": [
    "#Raw Text which contains different intentions.\n",
    "import json\n",
    "\n",
    "def extract_raw_text_and_intentions(jsonl_file_path, output_json_file_path):\n",
    "    output_data = []\n",
    "\n",
    "    with open(jsonl_file_path, 'r') as f:\n",
    "        for line in f:\n",
    "            data = json.loads(line)\n",
    "            raw_text = data['text']\n",
    "            entities = data['entities']\n",
    "\n",
    "            for entity in entities:\n",
    "                if entity['label'] == 'Intention':\n",
    "                    intention_text = raw_text[entity['start_offset']:entity['end_offset']]\n",
    "                    new_data = {\n",
    "                        'raw_text': raw_text,\n",
    "                        'intention': intention_text\n",
    "                    }\n",
    "                    output_data.append(new_data)\n",
    "\n",
    "    with open(output_json_file_path, 'w') as json_file:\n",
    "        json.dump(output_data, json_file, indent=4)\n",
    "\n",
    "# Usage\n",
    "extract_raw_text_and_intentions('New Dataset/admin(2).jsonl', 'output.json')"
   ]
  },
  {
   "cell_type": "code",
   "execution_count": null,
   "id": "72030865-1841-46b3-9e76-1b3429313b84",
   "metadata": {},
   "outputs": [],
   "source": []
  }
 ],
 "metadata": {
  "kernelspec": {
   "display_name": "Python 3 (ipykernel)",
   "language": "python",
   "name": "python3"
  },
  "language_info": {
   "codemirror_mode": {
    "name": "ipython",
    "version": 3
   },
   "file_extension": ".py",
   "mimetype": "text/x-python",
   "name": "python",
   "nbconvert_exporter": "python",
   "pygments_lexer": "ipython3",
   "version": "3.9.16"
  }
 },
 "nbformat": 4,
 "nbformat_minor": 5
}
